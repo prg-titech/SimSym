{
 "cells": [
  {
   "cell_type": "code",
   "execution_count": 1,
   "metadata": {},
   "outputs": [
    {
     "data": {
      "application/vnd.jupyter.widget-view+json": {
       "model_id": "bd841f27ee794e2dbded45d4c6173819",
       "version_major": 2,
       "version_minor": 0
      },
      "text/plain": [
       "Output()"
      ]
     },
     "metadata": {},
     "output_type": "display_data"
    },
    {
     "data": {
      "application/vnd.jupyter.widget-view+json": {
       "model_id": "e2ea7d0e1e134b1ba2ec3f65f832e830",
       "version_major": 2,
       "version_minor": 0
      },
      "text/plain": [
       "HTML(value='\\n<style>\\n.flexgrid {\\n    display: grid;\\n    grid-template-columns: repeat(auto-fill, minmax(10…"
      ]
     },
     "metadata": {},
     "output_type": "display_data"
    }
   ],
   "source": [
    "from SimSym import DefinePane\n",
    "from SimSym.model import Obj\n",
    "from SimSym.unit import ExprWithUnit, EqWithUnit"
   ]
  },
  {
   "cell_type": "code",
   "execution_count": 2,
   "metadata": {},
   "outputs": [
    {
     "data": {
      "application/vnd.jupyter.widget-view+json": {
       "model_id": "ce01f3c5bcff40c1a33a4aa3e094be3e",
       "version_major": 2,
       "version_minor": 0
      },
      "text/plain": [
       "DefinePane(children=(VBox(children=(ObjGenerateWidget(children=(Text(value='', layout=Layout(width='90px'), pl…"
      ]
     },
     "metadata": {},
     "output_type": "display_data"
    }
   ],
   "source": [
    "def_pane = DefinePane()\n",
    "def_pane"
   ]
  },
  {
   "cell_type": "code",
   "execution_count": 4,
   "metadata": {},
   "outputs": [
    {
     "data": {
      "application/javascript": [
       "alert(\"オブジェクト A はすでに定義されています。\")"
      ],
      "text/plain": [
       "<IPython.core.display.Javascript object>"
      ]
     },
     "metadata": {},
     "output_type": "display_data"
    },
    {
     "ename": "ObjAlreadyDefinedException",
     "evalue": "オブジェクト A はすでに定義されています。",
     "output_type": "error",
     "traceback": [
      "\u001b[0;31m---------------------------------------------------------------------------\u001b[0m",
      "\u001b[0;31mObjAlreadyDefinedException\u001b[0m                Traceback (most recent call last)",
      "Cell \u001b[0;32mIn[4], line 1\u001b[0m\n\u001b[0;32m----> 1\u001b[0m \u001b[43mdef_pane\u001b[49m\u001b[38;5;241;43m.\u001b[39;49m\u001b[43mobj_var_widget\u001b[49m\u001b[38;5;241;43m.\u001b[39;49m\u001b[43madd_object_by_name\u001b[49m\u001b[43m(\u001b[49m\u001b[38;5;124;43m'\u001b[39;49m\u001b[38;5;124;43mA\u001b[39;49m\u001b[38;5;124;43m'\u001b[39;49m\u001b[43m)\u001b[49m\n",
      "File \u001b[0;32m~/projects/SimSym/SimSym/gui/objVarWidget.py:48\u001b[0m, in \u001b[0;36mObjVarWidget.add_object_by_name\u001b[0;34m(self, name)\u001b[0m\n\u001b[1;32m     46\u001b[0m   alert_exception(EmptyException(\u001b[38;5;124m'\u001b[39m\u001b[38;5;124m物体名\u001b[39m\u001b[38;5;124m'\u001b[39m))\n\u001b[1;32m     47\u001b[0m \u001b[38;5;28;01mif\u001b[39;00m name \u001b[38;5;129;01min\u001b[39;00m \u001b[38;5;28mself\u001b[39m\u001b[38;5;241m.\u001b[39mobjs\u001b[38;5;241m.\u001b[39mkeys():\n\u001b[0;32m---> 48\u001b[0m   \u001b[43malert_exception\u001b[49m\u001b[43m(\u001b[49m\u001b[43mObjAlreadyDefinedException\u001b[49m\u001b[43m(\u001b[49m\u001b[43mname\u001b[49m\u001b[43m)\u001b[49m\u001b[43m)\u001b[49m\n\u001b[1;32m     49\u001b[0m \u001b[38;5;28mself\u001b[39m\u001b[38;5;241m.\u001b[39madd_object(Obj(name, \u001b[38;5;28mself\u001b[39m\u001b[38;5;241m.\u001b[39mvariable_holder))\n",
      "File \u001b[0;32m~/projects/SimSym/SimSym/utility/alert.py:14\u001b[0m, in \u001b[0;36malert_exception\u001b[0;34m(e)\u001b[0m\n\u001b[1;32m     12\u001b[0m \u001b[38;5;28;01mdef\u001b[39;00m \u001b[38;5;21malert_exception\u001b[39m(e: \u001b[38;5;167;01mException\u001b[39;00m) \u001b[38;5;241m-\u001b[39m\u001b[38;5;241m>\u001b[39m \u001b[38;5;28;01mNone\u001b[39;00m:\n\u001b[1;32m     13\u001b[0m   alert(\u001b[38;5;28mstr\u001b[39m(e))\n\u001b[0;32m---> 14\u001b[0m   \u001b[38;5;28;01mraise\u001b[39;00m e\n",
      "\u001b[0;31mObjAlreadyDefinedException\u001b[0m: オブジェクト A はすでに定義されています。"
     ]
    }
   ],
   "source": [
    "def_pane.obj_var_widget.add_object_by_name('A')"
   ]
  },
  {
   "cell_type": "code",
   "execution_count": 4,
   "metadata": {},
   "outputs": [],
   "source": [
    "def_pane.obj_var_widget.children[0].add(ExprWithUnit('a_A', 'm/s^2'))"
   ]
  },
  {
   "cell_type": "code",
   "execution_count": 5,
   "metadata": {},
   "outputs": [],
   "source": [
    "def_pane.global_var_widget.add(ExprWithUnit('a', 'm/s/s'))"
   ]
  },
  {
   "cell_type": "code",
   "execution_count": 6,
   "metadata": {},
   "outputs": [],
   "source": [
    "def_pane.equation_widget.add(EqWithUnit(ExprWithUnit('x', 'm'), ExprWithUnit('y', 'm')))"
   ]
  },
  {
   "cell_type": "code",
   "execution_count": 7,
   "metadata": {},
   "outputs": [],
   "source": [
    "def_pane.equation_widget.add(EqWithUnit(ExprWithUnit('x', 'm') / ExprWithUnit('y', 'm'), ExprWithUnit(3, 1)))"
   ]
  },
  {
   "cell_type": "code",
   "execution_count": null,
   "metadata": {},
   "outputs": [],
   "source": []
  }
 ],
 "metadata": {
  "kernelspec": {
   "display_name": "Python 3 (ipykernel)",
   "language": "python",
   "name": "python3"
  },
  "language_info": {
   "codemirror_mode": {
    "name": "ipython",
    "version": 3
   },
   "file_extension": ".py",
   "mimetype": "text/x-python",
   "name": "python",
   "nbconvert_exporter": "python",
   "pygments_lexer": "ipython3",
   "version": "3.11.5"
  }
 },
 "nbformat": 4,
 "nbformat_minor": 4
}
