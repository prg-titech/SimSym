{
 "cells": [
  {
   "cell_type": "code",
   "execution_count": 1,
   "metadata": {},
   "outputs": [
    {
     "data": {
      "application/vnd.jupyter.widget-view+json": {
       "model_id": "b7b31b86140f4ce6a30822e4c4fe48b4",
       "version_major": 2,
       "version_minor": 0
      },
      "text/plain": [
       "HTML(value='\\n<style>\\n.flexgrid {\\n    display: grid;\\n    grid-template-columns: repeat(auto-fill, minmax(10…"
      ]
     },
     "metadata": {},
     "output_type": "display_data"
    }
   ],
   "source": [
    "from SimSym import DefinePane\n",
    "from SimSym.gui import ObjGenerateWidget, ObjVarWidget, GlobalVarWidget, EquationWidget\n",
    "from SimSym.model import Obj\n",
    "from SimSym.unit import ExprWithUnit, EqWithUnit"
   ]
  },
  {
   "cell_type": "code",
   "execution_count": 2,
   "metadata": {},
   "outputs": [
    {
     "data": {
      "application/vnd.jupyter.widget-view+json": {
       "model_id": "274407a382a3496ca8dcb19884af81e2",
       "version_major": 2,
       "version_minor": 0
      },
      "text/plain": [
       "DefinePane(children=(VBox(children=(ObjGenerateWidget(children=(Text(value='', layout=Layout(width='90px'), pl…"
      ]
     },
     "metadata": {},
     "output_type": "display_data"
    }
   ],
   "source": [
    "obj_generate_widget = ObjGenerateWidget()\n",
    "obj_var_widget = ObjVarWidget()\n",
    "global_var_widget = GlobalVarWidget()\n",
    "equation_widget = EquationWidget()\n",
    "def_pane = DefinePane(obj_generate_widget, obj_var_widget, global_var_widget, equation_widget)\n",
    "def_pane"
   ]
  },
  {
   "cell_type": "code",
   "execution_count": 3,
   "metadata": {},
   "outputs": [],
   "source": [
    "obj_var_widget.add_object(Obj('A'))"
   ]
  },
  {
   "cell_type": "code",
   "execution_count": 4,
   "metadata": {},
   "outputs": [],
   "source": [
    "obj_var_widget.children[0].add(ExprWithUnit('a_A', 'm/s^2'))"
   ]
  },
  {
   "cell_type": "code",
   "execution_count": 5,
   "metadata": {},
   "outputs": [],
   "source": [
    "global_var_widget.add(ExprWithUnit('a', 'm/s/s'))"
   ]
  },
  {
   "cell_type": "code",
   "execution_count": 6,
   "metadata": {},
   "outputs": [],
   "source": [
    "equation_widget.add(EqWithUnit(ExprWithUnit('x', 'm'), ExprWithUnit('y', 'm')))"
   ]
  },
  {
   "cell_type": "code",
   "execution_count": 7,
   "metadata": {},
   "outputs": [],
   "source": [
    "equation_widget.add(EqWithUnit(ExprWithUnit('x', 'm') / ExprWithUnit('y', 'm'), ExprWithUnit(3, 1)))"
   ]
  },
  {
   "cell_type": "code",
   "execution_count": null,
   "metadata": {},
   "outputs": [],
   "source": []
  }
 ],
 "metadata": {
  "kernelspec": {
   "display_name": "SimSym-SjEumLb2",
   "language": "python",
   "name": "python3"
  },
  "language_info": {
   "codemirror_mode": {
    "name": "ipython",
    "version": 3
   },
   "file_extension": ".py",
   "mimetype": "text/x-python",
   "name": "python",
   "nbconvert_exporter": "python",
   "pygments_lexer": "ipython3",
   "version": "3.11.5"
  }
 },
 "nbformat": 4,
 "nbformat_minor": 2
}
